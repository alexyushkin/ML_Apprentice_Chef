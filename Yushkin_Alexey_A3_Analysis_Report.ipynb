{
 "cells": [
  {
   "cell_type": "markdown",
   "id": "flush-thousand",
   "metadata": {},
   "source": [
    "<br><h2><center>Analysis Report to Management of Apprentice Chef, Inc.</center></h2>\n",
    "<br><center>Alexey Yushkin</center>\n",
    "<br><center>Hult International Business School</center>\n",
    "<br><center>BMsBA1</center>\n",
    "<br>\n",
    "<br><center>Machine Learning - DAT-5303</center>\n",
    "<br><center>Professor Chase Kusterer</center>\n",
    "\n",
    "<center>February 15. 2021\n",
    "    \n",
    "<br><br><h3><center>Introduction</center></h3>\n",
    "\n",
    "Apprentice Chef, Inc. offers gourmet meals delivered to customers' doors. Its executives want to understand how much revenue to expect from each customer and which customers most likely will subscribe to an offer of wine from a local vineyard.\n",
    "\n",
    "<h3><center>Revenue related insights</center></h3>\n",
    "\n",
    "The highest revenue comes from customers ordering only one unique meal, as well as ten or more. It can be recommended to diversify the offered assortment so that on the one hand every customer who is not looking for variety could choose the food that best suits them, and on the other hand, so that customers who are looking for variety could have even more choice.\n",
    "\n",
    "Revenue drops considerably if the customer had to contact customer service more than ten times. It is advisable to monitor customers' complaints in order to be especially attentive to those customers who have expressed dissatisfaction.\n",
    "\n",
    " \n",
    "<h3><center>Sales promotion related insights</center></h3>\n",
    "\n",
    "Some of the most influential factors are those related to privacy - whether the customer has indicated their family name, personal or work email, mobile number, tastes, and preferences. It is recommended to take measures to convince the customers that their personal data is safe.\n",
    "\n",
    "In terms of the target audience, it can be recommended to pay more attention to the cross-sell promotion among men who have provided personal emails and are prone to cancel orders before noon.\n",
    "\n",
    " \n",
    "<h3><center>Revenue model's highest R-Square value</center></h3>\n",
    "\n",
    "<center>0.815</center>\n",
    "\n",
    " \n",
    "<h3><center>Cross-sell model's highest AUC score</center></h3>\n",
    "\n",
    "<center>0.844</center>\n",
    "\n",
    " \n",
    "<h3><center>Conclusion</center></h3>\n",
    "\n",
    "The models were built using statistically significant variables and allow to make recommendations for improving customer engagement and segmentation, enabling an increase in revenues and focusing the cross-selling campaign on the target audience."
   ]
  },
  {
   "cell_type": "code",
   "execution_count": null,
   "id": "national-oxygen",
   "metadata": {},
   "outputs": [],
   "source": []
  }
 ],
 "metadata": {
  "kernelspec": {
   "display_name": "Python 3",
   "language": "python",
   "name": "python3"
  },
  "language_info": {
   "codemirror_mode": {
    "name": "ipython",
    "version": 3
   },
   "file_extension": ".py",
   "mimetype": "text/x-python",
   "name": "python",
   "nbconvert_exporter": "python",
   "pygments_lexer": "ipython3",
   "version": "3.8.5"
  },
  "toc": {
   "base_numbering": 1,
   "nav_menu": {
    "height": "132px",
    "width": "317px"
   },
   "number_sections": false,
   "sideBar": true,
   "skip_h1_title": false,
   "title_cell": "Table of Contents",
   "title_sidebar": "Contents",
   "toc_cell": false,
   "toc_position": {},
   "toc_section_display": true,
   "toc_window_display": false
  },
  "varInspector": {
   "cols": {
    "lenName": 16,
    "lenType": 16,
    "lenVar": 40
   },
   "kernels_config": {
    "python": {
     "delete_cmd_postfix": "",
     "delete_cmd_prefix": "del ",
     "library": "var_list.py",
     "varRefreshCmd": "print(var_dic_list())"
    },
    "r": {
     "delete_cmd_postfix": ") ",
     "delete_cmd_prefix": "rm(",
     "library": "var_list.r",
     "varRefreshCmd": "cat(var_dic_list()) "
    }
   },
   "types_to_exclude": [
    "module",
    "function",
    "builtin_function_or_method",
    "instance",
    "_Feature"
   ],
   "window_display": false
  }
 },
 "nbformat": 4,
 "nbformat_minor": 5
}
